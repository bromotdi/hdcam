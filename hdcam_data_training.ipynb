{
  "cells": [
    {
      "cell_type": "code",
      "execution_count": 26,
      "id": "e7359a7c",
      "metadata": {
        "colab": {
          "base_uri": "https://localhost:8080/"
        },
        "id": "e7359a7c",
        "outputId": "e0a06add-3b8f-4f51-eb0f-4fb5f07a078a"
      },
      "outputs": [],
      "source": [
        "from typing import List\n",
        "import random\n",
        "import numpy as np\n",
        "from hdcam import Controller as HDCAM\n",
        "drive_path = \"C:/Users/bromotec/leo_2/leo_2_bringup/smart_uart_win_env/pyshell/\""
      ]
    },
    {
      "cell_type": "code",
      "execution_count": 27,
      "id": "WMus_HiNSBVZ",
      "metadata": {
        "id": "WMus_HiNSBVZ"
      },
      "outputs": [],
      "source": [
        "Segment = str\n",
        "Genome = List[Segment]"
      ]
    },
    {
      "cell_type": "code",
      "execution_count": 28,
      "id": "f89d225f",
      "metadata": {
        "id": "f89d225f"
      },
      "outputs": [],
      "source": [
        "influenza = drive_path + \"dataset/influenza.fna\"\n",
        "lassa = drive_path + \"dataset/lassa.fna\"\n",
        "measles = drive_path + \"dataset/measles.fna\"\n",
        "rotavirus = drive_path + \"dataset/rotavirus.fna\"\n",
        "sars_cov_2 = drive_path + \"dataset/sars_cov_2.fna\"\n",
        "\n",
        "all_viruses = [influenza, lassa, measles, rotavirus, sars_cov_2]"
      ]
    },
    {
      "cell_type": "code",
      "execution_count": 29,
      "id": "299713cd",
      "metadata": {
        "id": "299713cd"
      },
      "outputs": [],
      "source": [
        "def buildGenome(filename):\n",
        "    genome_file = open(filename, 'r')\n",
        "    genome: Genome = []\n",
        "    genome_idx = -1\n",
        "    for line in genome_file:\n",
        "        if line[0] == \">\":\n",
        "            genome.append(\"\")\n",
        "            genome_idx += 1\n",
        "            continue\n",
        "        else:\n",
        "            genome[genome_idx] += line[:-1]\n",
        "    genome_file.close\n",
        "    return genome"
      ]
    },
    {
      "cell_type": "code",
      "execution_count": 30,
      "id": "cc9ff084",
      "metadata": {
        "id": "cc9ff084"
      },
      "outputs": [],
      "source": [
        "def getSample(genome):\n",
        "    fragment_len = 150\n",
        "    samples = []\n",
        "    num_of_frags_in_seg = len(genome) - fragment_len + 1\n",
        "    sample_prob = 0.05\n",
        "    should_sample = np.random.uniform(size=num_of_frags_in_seg) < sample_prob\n",
        "    for i in range(num_of_frags_in_seg):\n",
        "        if should_sample[i]:\n",
        "            samples.append(genome[i:i+fragment_len])\n",
        "    return samples"
      ]
    },
    {
      "cell_type": "code",
      "execution_count": 31,
      "id": "w65cgPEqQOId",
      "metadata": {
        "colab": {
          "base_uri": "https://localhost:8080/"
        },
        "id": "w65cgPEqQOId",
        "outputId": "233ee757-9e0a-4f05-a074-52727fd240de"
      },
      "outputs": [
        {
          "name": "stdout",
          "output_type": "stream",
          "text": [
            "Influenza Dataset Length: 650\n",
            "Lassa Dataset Length: 512\n",
            "Measles Dataset Length: 1482\n",
            "Rotavirus Dataset Length: 822\n",
            "SARS-CoV-2 Dataset Length: 2991\n"
          ]
        }
      ],
      "source": [
        "# Define a dictionary to store datasets for each virus\n",
        "virus_datasets = {}\n",
        "\n",
        "for virus_path in all_viruses:\n",
        "    virus_name = virus_path.split(\"/\")[-1].split(\".\")[0]  # Extract virus name from the file path\n",
        "    virus_genome = buildGenome(virus_path)\n",
        "\n",
        "    samples_full = []\n",
        "    for g in virus_genome:\n",
        "        sample_full = getSample(g)\n",
        "        samples_full += sample_full\n",
        "\n",
        "    virus_datasets[virus_name] = samples_full\n",
        "\n",
        "# Now you have separate datasets for each virus in the virus_datasets dictionary\n",
        "# You can access the datasets using the virus names as keys\n",
        "# For example:\n",
        "influenza_dataset = virus_datasets[\"influenza\"]\n",
        "lassa_dataset = virus_datasets[\"lassa\"]\n",
        "measles_dataset = virus_datasets[\"measles\"]\n",
        "rotavirus_dataset = virus_datasets[\"rotavirus\"]\n",
        "sars_cov_2_dataset = virus_datasets[\"sars_cov_2\"]\n",
        "\n",
        "# Print lengths for verification\n",
        "print(\"Influenza Dataset Length:\", len(influenza_dataset))\n",
        "print(\"Lassa Dataset Length:\", len(lassa_dataset))\n",
        "print(\"Measles Dataset Length:\", len(measles_dataset))\n",
        "print(\"Rotavirus Dataset Length:\", len(rotavirus_dataset))\n",
        "print(\"SARS-CoV-2 Dataset Length:\", len(sars_cov_2_dataset))\n"
      ]
    },
    {
      "cell_type": "code",
      "execution_count": 32,
      "id": "Hy1gzu2WmEl7",
      "metadata": {
        "colab": {
          "base_uri": "https://localhost:8080/"
        },
        "id": "Hy1gzu2WmEl7",
        "outputId": "9fe73bf5-7a1e-4276-fa8d-19aca4d34345"
      },
      "outputs": [
        {
          "name": "stdout",
          "output_type": "stream",
          "text": [
            "Length of k-mers for Influenza: 130\n",
            "Length of k-mers for Lassa: 512\n",
            "Length of k-mers for Measles: 1482\n",
            "Length of k-mers for Rotavirus: 822\n",
            "Length of k-mers for SARS-CoV-2: 2991\n"
          ]
        }
      ],
      "source": [
        "def kmer_fun(seq, K):\n",
        "    '''This function outputs the K-mers of a sequence'''\n",
        "    kmer_list = []\n",
        "    if seq is not None:\n",
        "        for x in range(len(seq) - K + 1):\n",
        "            kmer_list.append(seq[x:x+K])\n",
        "        return kmer_list\n",
        "    else:\n",
        "        print('Variable is None')\n",
        "\n",
        "# Define k-mer length\n",
        "kmer_length = 21\n",
        "\n",
        "# Divide each dataset into k-mers\n",
        "kmer_influenza = [kmer_fun(seq, kmer_length) for seq in influenza_dataset]\n",
        "kmer_lassa = [kmer_fun(seq, kmer_length) for seq in lassa_dataset]\n",
        "kmer_measles = [kmer_fun(seq, kmer_length) for seq in measles_dataset]\n",
        "kmer_rotavirus = [kmer_fun(seq, kmer_length) for seq in rotavirus_dataset]\n",
        "kmer_sars_cov_2 = [kmer_fun(seq, kmer_length) for seq in sars_cov_2_dataset]\n",
        "\n",
        "# Print the length of k-mers for verification\n",
        "print(\"Length of k-mers for Influenza:\", len(kmer_influenza[0]))\n",
        "print(\"Length of k-mers for Lassa:\", len(kmer_lassa))\n",
        "print(\"Length of k-mers for Measles:\", len(kmer_measles))\n",
        "print(\"Length of k-mers for Rotavirus:\", len(kmer_rotavirus))\n",
        "print(\"Length of k-mers for SARS-CoV-2:\", len(kmer_sars_cov_2))\n"
      ]
    },
    {
      "cell_type": "code",
      "execution_count": 33,
      "id": "Yzj2m-xfmhol",
      "metadata": {
        "colab": {
          "base_uri": "https://localhost:8080/"
        },
        "id": "Yzj2m-xfmhol",
        "outputId": "ff59ad93-126e-4ce9-c34f-4fc6de66ef8a"
      },
      "outputs": [
        {
          "name": "stdout",
          "output_type": "stream",
          "text": [
            "Length of flattened k-mers for Influenza: 84500\n",
            "Length of flattened k-mers for Lassa: 66560\n",
            "Length of flattened k-mers for Measles: 192660\n",
            "Length of flattened k-mers for Rotavirus: 106860\n",
            "Length of flattened k-mers for SARS-CoV-2: 388830\n"
          ]
        }
      ],
      "source": [
        "from itertools import chain\n",
        "\n",
        "# Flatten the lists of k-mers for each virus\n",
        "flat_kmer_influenza = list(chain.from_iterable(kmer_influenza))\n",
        "flat_kmer_lassa = list(chain.from_iterable(kmer_lassa))\n",
        "flat_kmer_measles = list(chain.from_iterable(kmer_measles))\n",
        "flat_kmer_rotavirus = list(chain.from_iterable(kmer_rotavirus))\n",
        "flat_kmer_sars_cov_2 = list(chain.from_iterable(kmer_sars_cov_2))\n",
        "\n",
        "# Print the length of flattened k-mers for verification\n",
        "print(\"Length of flattened k-mers for Influenza:\", len(flat_kmer_influenza))\n",
        "print(\"Length of flattened k-mers for Lassa:\", len(flat_kmer_lassa))\n",
        "print(\"Length of flattened k-mers for Measles:\", len(flat_kmer_measles))\n",
        "print(\"Length of flattened k-mers for Rotavirus:\", len(flat_kmer_rotavirus))\n",
        "print(\"Length of flattened k-mers for SARS-CoV-2:\", len(flat_kmer_sars_cov_2))\n"
      ]
    },
    {
      "cell_type": "code",
      "execution_count": 34,
      "id": "YLd9c5jtm2ec",
      "metadata": {
        "colab": {
          "base_uri": "https://localhost:8080/"
        },
        "id": "YLd9c5jtm2ec",
        "outputId": "2f72475d-b9d4-4870-8437-ef6d6de3c625"
      },
      "outputs": [
        {
          "name": "stdout",
          "output_type": "stream",
          "text": [
            "Length of unique k-mers for Influenza: 13256\n",
            "Length of unique k-mers for Lassa: 10606\n",
            "Length of unique k-mers for Measles: 15862\n",
            "Length of unique k-mers for Rotavirus: 17713\n",
            "Length of unique k-mers for SARS-CoV-2: 58028\n"
          ]
        }
      ],
      "source": [
        "# Convert flattened k-mers to sets to get unique values\n",
        "unique_kmer_influenza = set(flat_kmer_influenza)\n",
        "unique_kmer_lassa = set(flat_kmer_lassa)\n",
        "unique_kmer_measles = set(flat_kmer_measles)\n",
        "unique_kmer_rotavirus = set(flat_kmer_rotavirus)\n",
        "unique_kmer_sars_cov_2 = set(flat_kmer_sars_cov_2)\n",
        "\n",
        "# Print the length of unique k-mers for verification\n",
        "print(\"Length of unique k-mers for Influenza:\", len(unique_kmer_influenza))\n",
        "print(\"Length of unique k-mers for Lassa:\", len(unique_kmer_lassa))\n",
        "print(\"Length of unique k-mers for Measles:\", len(unique_kmer_measles))\n",
        "print(\"Length of unique k-mers for Rotavirus:\", len(unique_kmer_rotavirus))\n",
        "print(\"Length of unique k-mers for SARS-CoV-2:\", len(unique_kmer_sars_cov_2))\n"
      ]
    },
    {
      "cell_type": "code",
      "execution_count": 35,
      "id": "iEToNakHccHZ",
      "metadata": {
        "colab": {
          "base_uri": "https://localhost:8080/"
        },
        "id": "iEToNakHccHZ",
        "outputId": "392ef6e1-34bf-4edf-f358-07c6118be41d"
      },
      "outputs": [
        {
          "name": "stdout",
          "output_type": "stream",
          "text": [
            "Encoded Influenza Sample: ['011101000000101110110011110110101011000011000000000110110110110', '101000110011110000110110101000011000110110110110101000110110110', '011101110000110110110000101101000110000000011000101000000011000', '000110110011000101110110101011000011110101110011011000101011011', '101101000000000110101000000000000011000110000000110000000101011', '000110101000000000000110110101110011000011011011000000101000011', '000011101000011000110101110101000000000000011101000101110101000', '110011011110110101000110011101110000000110011101101101000000011', '011101000011110000110000110000101000110110011000000011110101110', '011011000011011110101000011110011000000000101000101000011011011']\n",
            "Encoded Lassa Sample: ['110011011011110110101000110011110011110101101110000101110011110', '000110101000011000011000101110011000000110011011000101110110000', '101000011110110011101101000101011011101101110011000011110101000', '101000000110110000000000110000000011000110000011101101110110000', '101000011000000101000110011110011011110101110011101110000011000', '000011110101110011011011000101101000011110000110000000000011000', '000000000000101110110000000011101101110110101101110011110000110', '011110000110101101101000000101000101110110101000011000101110110', '000011110110011101101000101011011101101110011000011110101000000', '011110000000101110011011101110101110110000110101000000101101110']\n",
            "Encoded Measles Sample: ['110110011000011000011110110011000110101101000011011000110110101', '000000000110101101110011110101000110110000110110110011011101101', '000011011000000110110110101000000101110000000000011101101011000', '110000110110000000011110110110011011011000110000011000000000101', '110000011011000011000101000101000000011000011000110110110011101', '000000000101110101000011110110101101000000110101110011011110000', '101110110011110011011000000110110110011110110000101000110011011', '110011101000000000011000000110110000000110101101000101101000110', '011000011000110011011110011000011011000011011110101000011101110', '110101000000011000000011101101101011110110011101101000011101101']\n",
            "Encoded Rotavirus Sample: ['000101110101110110101101110011000110011011000011000110110000110', '110000110101110000000101000011000011110000110110110000011011011', '101110000110110000011000101110000110101000110110101101000011110', '110011011000110101101101110110000101110110101110110101011000110', '000000110011011101110000000011000110000110000110110101000110011', '011000000000110000101101000110110110011000110011110000101000000', '110011011000101011000110110110110101000101110110000110000110101', '110000011000110101110011000000011000011110101110000000000110011', '000000101110000011000000101011110011000110110110011101000000000', '110000011000000110101000110000101011110011110000101000000110110']\n",
            "Encoded SARS-CoV-2 Sample: ['000011110011110011110000101110110011011000101000000110101000000', '000000011110011000011011000101110000110110000000011011110011110', '000011110110011000000101000000000000011000110101011101110011000', '011011000101101101110101000011000110110101000000101110011011101', '101101000000110011110011101110000110011000011011101101101000000', '000101110011000011011000000000101000110110110000000011101110011', '000101000000000110011011000000000101110011000101110110110101110', '000101000110011101101000000110110110000011000110110101110110011', '110110110101101000101110110110110000000011110011110110000110011', '110110011000110110000101000110101011000011110101011000000011000']\n"
          ]
        }
      ],
      "source": [
        "def encode_sequence(sequence, encoding_dict):\n",
        "    return ''.join(encoding_dict[letter] for letter in sequence)\n",
        "\n",
        "# Encode each dataset\n",
        "encoding_dict = {'A': '000', 'G': '011', 'C': '101', 'T': '110'}\n",
        "encoded_influenza = [encode_sequence(seq, encoding_dict) for seq in unique_kmer_influenza]\n",
        "encoded_lassa = [encode_sequence(seq, encoding_dict) for seq in unique_kmer_lassa]\n",
        "encoded_measles = [encode_sequence(seq, encoding_dict) for seq in unique_kmer_measles]\n",
        "encoded_rotavirus = [encode_sequence(seq, encoding_dict) for seq in unique_kmer_rotavirus]\n",
        "encoded_sars_cov_2 = [encode_sequence(seq, encoding_dict) for seq in unique_kmer_sars_cov_2]\n",
        "\n",
        "# Print the first 10 characters of the encoded sequences for verification\n",
        "print(\"Encoded Influenza Sample:\", encoded_influenza[:10])\n",
        "print(\"Encoded Lassa Sample:\", encoded_lassa[:10])\n",
        "print(\"Encoded Measles Sample:\", encoded_measles[:10])\n",
        "print(\"Encoded Rotavirus Sample:\", encoded_rotavirus[:10])\n",
        "print(\"Encoded SARS-CoV-2 Sample:\", encoded_sars_cov_2[:10])\n"
      ]
    },
    {
      "cell_type": "code",
      "execution_count": 37,
      "id": "ES2hIPZ2d50U",
      "metadata": {
        "colab": {
          "base_uri": "https://localhost:8080/"
        },
        "id": "ES2hIPZ2d50U",
        "outputId": "f56f4e8d-1885-4845-ac9c-b5bfd2d6078b"
      },
      "outputs": [
        {
          "name": "stdout",
          "output_type": "stream",
          "text": [
            "Decimal Influenza Sample: [4180987442496540086, 5881168197140042166, 4289353576981745688, 979738897510150491, 6485416560293863467, 954766881656242499, 523291574030732200, 7419296912098908675, 4187811509579810734, 3898943259804979419]\n",
            "Decimal Lassa Sample: [7412595578207931294, 955621138443897776, 5833980706102544296, 5779807584508828592, 5818830200392768536, 553500249117884440, 1644901319501702, 4338571771869671798, 554985464546475328, 4325089368212144494]\n",
            "Decimal Measles Sample: [7837124708215665077, 15122589346916077, 486629897171647320, 7039143177786765317, 6978435967506738589, 13125889954604784, 6745948097955254683, 7439959836551711558, 3514618814789538030, 7638951434650570989]\n",
            "Decimal Rotavirus Sample: [841846464557714822, 7038566042680647899, 6644511890399255070, 7405807762771765958, 115888552155507251, 3460478161531822400, 7405434484914064437, 6973465035722391603, 103688720772446720, 6971805737831387190]\n",
            "Decimal SARS-CoV-2 Sample: [549008548014853440, 68413312253048734, 554789927927856024, 3903981537604951261, 6487006299930090304, 835536483616556915, 720801890797022638, 735129135078402995, 7902998680179436595, 7838166113815539736]\n"
          ]
        }
      ],
      "source": [
        "def binary_to_decimal(encoded_list):\n",
        "    number_list = []\n",
        "    for kmer in encoded_list:\n",
        "        result = int(kmer, 2)\n",
        "        number_list.append(result)\n",
        "    return number_list\n",
        "\n",
        "# Apply the conversion to each encoded dataset\n",
        "decimal_influenza = binary_to_decimal(encoded_influenza)\n",
        "decimal_lassa = binary_to_decimal(encoded_lassa)\n",
        "decimal_measles = binary_to_decimal(encoded_measles)\n",
        "decimal_rotavirus = binary_to_decimal(encoded_rotavirus)\n",
        "decimal_sars_cov_2 = binary_to_decimal(encoded_sars_cov_2)[:20000]\n",
        "\n",
        "# Print the first 10 elements for verification\n",
        "print(\"Decimal Influenza Sample:\", decimal_influenza[:10])\n",
        "print(\"Decimal Lassa Sample:\", decimal_lassa[:10])\n",
        "print(\"Decimal Measles Sample:\", decimal_measles[:10])\n",
        "print(\"Decimal Rotavirus Sample:\", decimal_rotavirus[:10])\n",
        "print(\"Decimal SARS-CoV-2 Sample:\", decimal_sars_cov_2[:10])\n"
      ]
    },
    {
      "cell_type": "code",
      "execution_count": 38,
      "id": "eTQunSrifYKE",
      "metadata": {
        "colab": {
          "base_uri": "https://localhost:8080/"
        },
        "id": "eTQunSrifYKE",
        "outputId": "08386442-6c8b-45e5-92a6-0ea02d2a324a"
      },
      "outputs": [
        {
          "name": "stdout",
          "output_type": "stream",
          "text": [
            "Influenza - Total Elements: 13256, Unique Elements: 13256\n",
            "Lassa - Total Elements: 10606, Unique Elements: 10606\n",
            "Measles - Total Elements: 15862, Unique Elements: 15862\n",
            "Rotavirus - Total Elements: 17713, Unique Elements: 17713\n",
            "SARS-CoV-2 - Total Elements: 20000, Unique Elements: 20000\n"
          ]
        }
      ],
      "source": [
        "# Function to print information about a dataset\n",
        "def print_dataset_info(name, dataset):\n",
        "    total_elements = len(dataset)\n",
        "    unique_elements = len(set(dataset))\n",
        "\n",
        "    print(f\"{name} - Total Elements: {total_elements}, Unique Elements: {unique_elements}\")\n",
        "\n",
        "# Print information for each dataset\n",
        "print_dataset_info(\"Influenza\", decimal_influenza)\n",
        "print_dataset_info(\"Lassa\", decimal_lassa)\n",
        "print_dataset_info(\"Measles\", decimal_measles)\n",
        "print_dataset_info(\"Rotavirus\", decimal_rotavirus)\n",
        "print_dataset_info(\"SARS-CoV-2\", decimal_sars_cov_2)\n"
      ]
    },
    {
      "cell_type": "code",
      "execution_count": 39,
      "id": "joWQdgqHn_Hb",
      "metadata": {
        "colab": {
          "base_uri": "https://localhost:8080/"
        },
        "id": "joWQdgqHn_Hb",
        "outputId": "3080510f-49ef-43e4-b674-e8d595b7a444"
      },
      "outputs": [
        {
          "name": "stdout",
          "output_type": "stream",
          "text": [
            "Length of Mini Decimal Influenza: 1920\n",
            "Length of Mini Decimal Lassa: 1920\n",
            "Length of Mini Decimal Measles: 1920\n",
            "Length of Mini Decimal Rotavirus: 1920\n",
            "Length of Mini Decimal SARS-CoV-2: 1920\n"
          ]
        }
      ],
      "source": [
        "import random\n",
        "\n",
        "# Define the size of the mini-dataset\n",
        "mini_dataset_size = 1920\n",
        "\n",
        "# Function to create a mini-dataset from a given dataset\n",
        "def create_mini_dataset(dataset, size):\n",
        "    return random.sample(dataset, size)\n",
        "\n",
        "# Create mini-datasets for each decimal dataset\n",
        "mini_decimal_influenza = create_mini_dataset(decimal_influenza, mini_dataset_size)\n",
        "mini_decimal_lassa = create_mini_dataset(decimal_lassa, mini_dataset_size)\n",
        "mini_decimal_measles = create_mini_dataset(decimal_measles, mini_dataset_size)\n",
        "mini_decimal_rotavirus = create_mini_dataset(decimal_rotavirus, mini_dataset_size)\n",
        "mini_decimal_sars_cov_2 = create_mini_dataset(decimal_sars_cov_2, mini_dataset_size)\n",
        "\n",
        "# Print the lengths of each mini-dataset\n",
        "print(\"Length of Mini Decimal Influenza:\", len(mini_decimal_influenza))\n",
        "print(\"Length of Mini Decimal Lassa:\", len(mini_decimal_lassa))\n",
        "print(\"Length of Mini Decimal Measles:\", len(mini_decimal_measles))\n",
        "print(\"Length of Mini Decimal Rotavirus:\", len(mini_decimal_rotavirus))\n",
        "print(\"Length of Mini Decimal SARS-CoV-2:\", len(mini_decimal_sars_cov_2))\n"
      ]
    },
    {
      "cell_type": "code",
      "execution_count": 40,
      "metadata": {},
      "outputs": [
        {
          "name": "stdout",
          "output_type": "stream",
          "text": [
            "Percentage of Mini Decimal Influenza compared to Original Dataset: 14.48400724200362\n",
            "Percentage of Mini Decimal Lassa compared to Original Dataset: 18.10296058834622\n",
            "Percentage of Mini Decimal Measles compared to Original Dataset: 12.104400453915016\n",
            "Percentage of Mini Decimal Rotavirus compared to Original Dataset: 10.839496415062383\n",
            "Percentage of Mini Decimal SARS-CoV-2 compared to Original Dataset: 9.6\n"
          ]
        }
      ],
      "source": [
        "# Calculate the percentage for each mini-dataset\n",
        "percentage_influenza = (len(mini_decimal_influenza) / len(decimal_influenza)) * 100\n",
        "percentage_lassa = (len(mini_decimal_lassa) / len(decimal_lassa)) * 100\n",
        "percentage_measles = (len(mini_decimal_measles) / len(decimal_measles)) * 100\n",
        "percentage_rotavirus = (len(mini_decimal_rotavirus) / len(decimal_rotavirus)) * 100\n",
        "percentage_sars_cov_2 = (len(mini_decimal_sars_cov_2) / len(decimal_sars_cov_2)) * 100\n",
        "\n",
        "# Print the percentages for each mini-dataset\n",
        "print(\"Percentage of Mini Decimal Influenza compared to Original Dataset:\", percentage_influenza)\n",
        "print(\"Percentage of Mini Decimal Lassa compared to Original Dataset:\", percentage_lassa)\n",
        "print(\"Percentage of Mini Decimal Measles compared to Original Dataset:\", percentage_measles)\n",
        "print(\"Percentage of Mini Decimal Rotavirus compared to Original Dataset:\", percentage_rotavirus)\n",
        "print(\"Percentage of Mini Decimal SARS-CoV-2 compared to Original Dataset:\", percentage_sars_cov_2)\n"
      ]
    },
    {
      "cell_type": "code",
      "execution_count": 41,
      "id": "8jQqrp4UoznO",
      "metadata": {
        "colab": {
          "base_uri": "https://localhost:8080/"
        },
        "id": "8jQqrp4UoznO",
        "outputId": "50bae06c-42c4-470a-c6ee-06077397757d"
      },
      "outputs": [],
      "source": [
        "# def create_dataset_excluding_mini_dataset(full_dataset, mini_dataset):\n",
        "#     return [element for element in full_dataset if element not in mini_dataset]\n",
        "\n",
        "# # Create new datasets excluding elements from the mini-datasets\n",
        "# decimal_influenza = create_dataset_excluding_mini_dataset(decimal_influenza, mini_decimal_influenza)\n",
        "# decimal_lassa = create_dataset_excluding_mini_dataset(decimal_lassa, mini_decimal_lassa)\n",
        "# decimal_measles = create_dataset_excluding_mini_dataset(decimal_measles, mini_decimal_measles)\n",
        "# decimal_rotavirus = create_dataset_excluding_mini_dataset(decimal_rotavirus, mini_decimal_rotavirus)\n",
        "# decimal_sars_cov_2 = create_dataset_excluding_mini_dataset(decimal_sars_cov_2, mini_decimal_sars_cov_2)\n",
        "\n",
        "# # Print the lengths of each new dataset\n",
        "# print(\"Length of New Dataset Excluding Mini Decimal Influenza:\", len(decimal_influenza))\n",
        "# print(\"Length of New Dataset Excluding Mini Decimal Lassa:\", len(decimal_lassa))\n",
        "# print(\"Length of New Dataset Excluding Mini Decimal Measles:\", len(decimal_measles))\n",
        "# print(\"Length of New Dataset Excluding Mini Decimal Rotavirus:\", len(decimal_rotavirus))\n",
        "# print(\"Length of New Dataset Excluding Mini Decimal SARS-CoV-2:\", len(decimal_sars_cov_2))\n"
      ]
    },
    {
      "cell_type": "code",
      "execution_count": 42,
      "id": "qBPNt0yYuhYV",
      "metadata": {
        "colab": {
          "base_uri": "https://localhost:8080/"
        },
        "id": "qBPNt0yYuhYV",
        "outputId": "a1fc700d-89bd-4fbc-c31b-56b9883331ad"
      },
      "outputs": [
        {
          "name": "stdout",
          "output_type": "stream",
          "text": [
            "Length of Datasets Except Influenza: 13256\n",
            "Length of Datasets Except Lassa: 10604\n",
            "Length of Datasets Except Measles: 15860\n",
            "Length of Datasets Except Rotavirus: 17712\n",
            "Length of Datasets Except SARS-CoV-2: 20000\n"
          ]
        }
      ],
      "source": [
        "def create_dataset_excluding_virus(virus_dataset, all_datasets_except_virus):\n",
        "    # Calculate the size for each other virus\n",
        "    size_per_other_virus = len(virus_dataset) // 4\n",
        "    # Randomly select elements from each other virus\n",
        "    new_dataset = []\n",
        "    for other_virus_dataset in all_datasets_except_virus:\n",
        "        random_selection = random.sample(other_virus_dataset, size_per_other_virus)\n",
        "        new_dataset += random_selection\n",
        "\n",
        "    # Shuffle the new dataset to mix elements from different viruses\n",
        "    random.shuffle(new_dataset)\n",
        "\n",
        "    return new_dataset\n",
        "\n",
        "# Create datasets excluding each virus\n",
        "datasets_except_influenza = create_dataset_excluding_virus(decimal_influenza, [decimal_lassa, decimal_measles, decimal_rotavirus, decimal_sars_cov_2])\n",
        "datasets_except_lassa = create_dataset_excluding_virus(decimal_lassa, [decimal_influenza, decimal_measles, decimal_rotavirus, decimal_sars_cov_2])\n",
        "datasets_except_measles = create_dataset_excluding_virus(decimal_measles, [decimal_influenza, decimal_lassa, decimal_rotavirus, decimal_sars_cov_2])\n",
        "datasets_except_rotavirus = create_dataset_excluding_virus(decimal_rotavirus, [decimal_influenza, decimal_lassa, decimal_measles, decimal_sars_cov_2])\n",
        "datasets_except_sars_cov_2 = create_dataset_excluding_virus(decimal_sars_cov_2, [decimal_influenza, decimal_lassa, decimal_measles, decimal_rotavirus])\n",
        "\n",
        "# Print the lengths of each dataset\n",
        "print(\"Length of Datasets Except Influenza:\", len(datasets_except_influenza))\n",
        "print(\"Length of Datasets Except Lassa:\", len(datasets_except_lassa))\n",
        "print(\"Length of Datasets Except Measles:\", len(datasets_except_measles))\n",
        "print(\"Length of Datasets Except Rotavirus:\", len(datasets_except_rotavirus))\n",
        "print(\"Length of Datasets Except SARS-CoV-2:\", len(datasets_except_sars_cov_2))\n"
      ]
    },
    {
      "cell_type": "code",
      "execution_count": 93,
      "metadata": {},
      "outputs": [
        {
          "name": "stdout",
          "output_type": "stream",
          "text": [
            "\n",
            "List of active serial ports:\n",
            "\n",
            "port:COM9 ; desc:USB Serial Port (COM9) ; hwid:USB VID:PID=0403:6011 SER=6\n",
            "USB Serial Port (COM9) OK\n",
            "port:COM10 ; desc:USB Serial Port (COM10) ; hwid:USB VID:PID=0403:6011 SER=6\n",
            "USB Serial Port (COM10) OK\n",
            "port:COM11 ; desc:USB Serial Port (COM11) ; hwid:USB VID:PID=0403:6011 SER=6\n",
            "USB Serial Port (COM11) OK\n",
            "port:COM12 ; desc:USB Serial Port (COM12) ; hwid:USB VID:PID=0403:6011 SER=6\n",
            "USB Serial Port (COM12) OK\n",
            "\n",
            "Found USB Serial Port at COM11\n",
            "\n"
          ]
        }
      ],
      "source": [
        "hdcam = HDCAM()"
      ]
    },
    {
      "cell_type": "code",
      "execution_count": 49,
      "id": "KX4pfjzlqFsT",
      "metadata": {
        "id": "KX4pfjzlqFsT"
      },
      "outputs": [],
      "source": [
        "# Function to calculate TP, FN, TN, FP for a given virus\n",
        "def calculate_confusion_matrix(virus_name, mini_virus_dataset, virus_dataset, all_datasets_except_virus):\n",
        "    # Write the virus dataset to hdcam\n",
        "    hdcam.write(mini_virus_dataset)\n",
        "\n",
        "    # Calculate TP and FN for the virus\n",
        "    number_of_hits = 0\n",
        "    for i in range(0, len(virus_dataset), 1920):\n",
        "        number_of_hits += hdcam.read(virus_dataset[i:1920 + i])\n",
        "\n",
        "    tp = number_of_hits\n",
        "    fn = len(virus_dataset) - number_of_hits\n",
        "\n",
        "    # Calculate TN and FP for the virus by reading other datasets combined\n",
        "    number_of_hits = 0\n",
        "    for i in range(0, len(all_datasets_except_virus), 1920):\n",
        "        number_of_hits += hdcam.read(all_datasets_except_virus[i:1920 + i])\n",
        "\n",
        "    fp = number_of_hits\n",
        "    tn = len(all_datasets_except_virus) - number_of_hits\n",
        "\n",
        "    print(f\"For {virus_name}: TP is {tp}, FN is {fn}, TN is {tn}, FP is {fp}\")\n",
        "    return tp, fn, fp, tn\n"
      ]
    },
    {
      "cell_type": "code",
      "execution_count": 90,
      "metadata": {},
      "outputs": [],
      "source": [
        "def calculate_metrics(virus_name, tp, fn, fp, tn):\n",
        "    accuracy = (tp + tn) / (tp + tn + fn + fp)\n",
        "    sensitivity = tp / (tp + fn)\n",
        "    specificity = tn / (tn + fp)\n",
        "    precision = tp / (tp + fp)\n",
        "    f1 = 2 * (precision * sensitivity) / (precision + sensitivity)\n",
        "\n",
        "    print(f'Metrics for {virus_name}:')\n",
        "    print('------------------------')\n",
        "    print('Accuracy: {:.2%}'.format(accuracy))\n",
        "    print('Sensitivity: {:.2%}'.format(sensitivity))\n",
        "    print('Specificity: {:.2%}'.format(specificity))\n",
        "    print('Precision: {:.2%}'.format(precision))\n",
        "    print('F1 Score: {:.2%}'.format(f1))\n",
        "    print()\n"
      ]
    },
    {
      "cell_type": "code",
      "execution_count": 135,
      "metadata": {},
      "outputs": [
        {
          "name": "stdout",
          "output_type": "stream",
          "text": [
            "For Influenza: TP is 5857, FN is 7399, TN is 10064, FP is 3192\n",
            "For Lassa: TP is 4005, FN is 6601, TN is 7412, FP is 3192\n",
            "For Measles: TP is 4742, FN is 11120, TN is 11095, FP is 4765\n",
            "For Rotavirus: TP is 13794, FN is 3919, TN is 10218, FP is 7494\n",
            "For SARS-CoV-2: TP is 7095, FN is 12905, TN is 13802, FP is 6198\n"
          ]
        }
      ],
      "source": [
        "TP_Influenza, FN_Influenza, FP_Influenza, TN_Influenza = calculate_confusion_matrix(\"Influenza\", mini_decimal_influenza, decimal_influenza, datasets_except_influenza)\n",
        "TP_Lassa, FN_Lassa, FP_Lassa, TN_Lassa = calculate_confusion_matrix(\"Lassa\", mini_decimal_lassa, decimal_lassa, datasets_except_lassa)\n",
        "TP_Measles, FN_Measles, FP_Measles, TN_Measles = calculate_confusion_matrix(\"Measles\", mini_decimal_measles, decimal_measles, datasets_except_measles)\n",
        "TP_Rotavirus, FN_Rotavirus, FP_Rotavirus, TN_Rotavirus = calculate_confusion_matrix(\"Rotavirus\", mini_decimal_rotavirus, decimal_rotavirus, datasets_except_rotavirus)\n",
        "TP_SARS_COV_2, FN_SARS_COV_2, FP_SARS_COV_2, TN_SARS_COV_2 = calculate_confusion_matrix(\"SARS-CoV-2\", mini_decimal_sars_cov_2, decimal_sars_cov_2, datasets_except_sars_cov_2)"
      ]
    },
    {
      "cell_type": "code",
      "execution_count": 136,
      "metadata": {},
      "outputs": [
        {
          "name": "stdout",
          "output_type": "stream",
          "text": [
            "Metrics for Overall:\n",
            "------------------------\n",
            "Accuracy: 56.88%\n",
            "Sensitivity: 45.83%\n",
            "Specificity: 67.92%\n",
            "Precision: 58.83%\n",
            "F1 Score: 51.52%\n",
            "\n",
            "Metrics for Influenza:\n",
            "------------------------\n",
            "Accuracy: 60.05%\n",
            "Sensitivity: 44.18%\n",
            "Specificity: 75.92%\n",
            "Precision: 64.73%\n",
            "F1 Score: 52.52%\n",
            "\n",
            "Metrics for Lassa:\n",
            "------------------------\n",
            "Accuracy: 53.83%\n",
            "Sensitivity: 37.76%\n",
            "Specificity: 69.90%\n",
            "Precision: 55.65%\n",
            "F1 Score: 44.99%\n",
            "\n",
            "Metrics for Measles:\n",
            "------------------------\n",
            "Accuracy: 49.92%\n",
            "Sensitivity: 29.90%\n",
            "Specificity: 69.96%\n",
            "Precision: 49.88%\n",
            "F1 Score: 37.38%\n",
            "\n",
            "Metrics for Rotavirus:\n",
            "------------------------\n",
            "Accuracy: 67.78%\n",
            "Sensitivity: 77.88%\n",
            "Specificity: 57.69%\n",
            "Precision: 64.80%\n",
            "F1 Score: 70.74%\n",
            "\n",
            "Metrics for Sarc_cov_2:\n",
            "------------------------\n",
            "Accuracy: 52.24%\n",
            "Sensitivity: 35.48%\n",
            "Specificity: 69.01%\n",
            "Precision: 53.37%\n",
            "F1 Score: 42.62%\n",
            "\n"
          ]
        }
      ],
      "source": [
        "overall_TP = TP_Influenza + TP_Lassa + TP_Measles + TP_Rotavirus + TP_SARS_COV_2\n",
        "overall_FN = FN_Influenza + FN_Lassa + FN_Measles + FN_Rotavirus + FN_SARS_COV_2\n",
        "overall_FP = FP_Influenza + FP_Lassa + FP_Measles + FP_Rotavirus + FP_SARS_COV_2\n",
        "overall_TN = TN_Influenza + TN_Lassa + TN_Measles + TN_Rotavirus + TN_SARS_COV_2\n",
        "\n",
        "calculate_metrics(\"Overall\", overall_TP, overall_FN, overall_FP, overall_TN)\n",
        "calculate_metrics(\"Influenza\", TP_Influenza, FN_Influenza, FP_Influenza, TN_Influenza)\n",
        "calculate_metrics(\"Lassa\",TP_Lassa, FN_Lassa, FP_Lassa, TN_Lassa)\n",
        "calculate_metrics(\"Measles\",TP_Measles, FN_Measles, FP_Measles, TN_Measles)\n",
        "calculate_metrics(\"Rotavirus\",TP_Rotavirus, FN_Rotavirus, FP_Rotavirus, TN_Rotavirus)\n",
        "calculate_metrics(\"Sarc_cov_2\",TP_SARS_COV_2, FN_SARS_COV_2, FP_SARS_COV_2, TN_SARS_COV_2)"
      ]
    },
    {
      "cell_type": "code",
      "execution_count": null,
      "metadata": {},
      "outputs": [],
      "source": []
    }
  ],
  "metadata": {
    "colab": {
      "provenance": []
    },
    "kernelspec": {
      "display_name": "Python 3",
      "name": "python3"
    },
    "language_info": {
      "codemirror_mode": {
        "name": "ipython",
        "version": 3
      },
      "file_extension": ".py",
      "mimetype": "text/x-python",
      "name": "python",
      "nbconvert_exporter": "python",
      "pygments_lexer": "ipython3",
      "version": "3.11.5"
    }
  },
  "nbformat": 4,
  "nbformat_minor": 5
}
